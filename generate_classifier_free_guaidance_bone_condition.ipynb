{
 "cells": [
  {
   "cell_type": "markdown",
   "id": "804c56c5-3251-4ce4-9926-4a4ddac724d0",
   "metadata": {},
   "source": [
    "# Train a classifier free guaidance diffusion model for generating image according to condtion. \n",
    "## Conditions - Normal, Level_1, Level_2,Level_3, Worse. The conditons are based the disease condition level of Knee Osteoarthritis."
   ]
  },
  {
   "cell_type": "code",
   "execution_count": null,
   "id": "8d7f7af3-84b6-49a7-ae5f-3a732d07d276",
   "metadata": {},
   "outputs": [],
   "source": []
  },
  {
   "cell_type": "markdown",
   "id": "a071bfa8-82bf-4e8b-b36f-1c901c4d2a68",
   "metadata": {},
   "source": [
    "Import the libraries"
   ]
  },
  {
   "cell_type": "code",
   "execution_count": 1,
   "id": "b7731056-d5aa-4043-804d-b29795006a31",
   "metadata": {},
   "outputs": [
    {
     "name": "stdout",
     "output_type": "stream",
     "text": [
      "MONAI version: 1.2.0\n",
      "Numpy version: 1.26.0\n",
      "Pytorch version: 2.1.0+cu121\n",
      "MONAI flags: HAS_EXT = False, USE_COMPILED = False, USE_META_DICT = False\n",
      "MONAI rev id: c33f1ba588ee00229a309000e888f9817b4f1934\n",
      "MONAI __file__: /home/default/miniconda3/envs/monai_generative_ai/lib/python3.10/site-packages/monai/__init__.py\n",
      "\n",
      "Optional dependencies:\n",
      "Pytorch Ignite version: NOT INSTALLED or UNKNOWN VERSION.\n",
      "ITK version: NOT INSTALLED or UNKNOWN VERSION.\n",
      "Nibabel version: 5.1.0\n",
      "scikit-image version: 0.22.0\n",
      "Pillow version: 10.0.1\n",
      "Tensorboard version: NOT INSTALLED or UNKNOWN VERSION.\n",
      "gdown version: NOT INSTALLED or UNKNOWN VERSION.\n",
      "TorchVision version: 0.16.0+cu121\n",
      "tqdm version: 4.66.1\n",
      "lmdb version: NOT INSTALLED or UNKNOWN VERSION.\n",
      "psutil version: 5.9.5\n",
      "pandas version: 2.1.2\n",
      "einops version: NOT INSTALLED or UNKNOWN VERSION.\n",
      "transformers version: NOT INSTALLED or UNKNOWN VERSION.\n",
      "mlflow version: NOT INSTALLED or UNKNOWN VERSION.\n",
      "pynrrd version: NOT INSTALLED or UNKNOWN VERSION.\n",
      "\n",
      "For details about installing the optional dependencies, please visit:\n",
      "    https://docs.monai.io/en/latest/installation.html#installing-the-recommended-dependencies\n",
      "\n"
     ]
    }
   ],
   "source": [
    "import os\n",
    "import shutil\n",
    "import tempfile\n",
    "\n",
    "import os\n",
    "import shutil\n",
    "import tempfile\n",
    "\n",
    "import matplotlib.pyplot as plt\n",
    "import numpy as np\n",
    "import torch\n",
    "import torch.nn.functional as F\n",
    "from monai import transforms\n",
    "from monai.apps import MedNISTDataset\n",
    "from monai.config import print_config\n",
    "from monai.data import DataLoader, Dataset\n",
    "from monai.utils import first, set_determinism\n",
    "from torch.cuda.amp import GradScaler, autocast\n",
    "from tqdm import tqdm\n",
    "\n",
    "from generative.inferers import LatentDiffusionInferer\n",
    "from generative.losses.adversarial_loss import PatchAdversarialLoss\n",
    "from generative.losses.perceptual import PerceptualLoss\n",
    "from generative.networks.nets import AutoencoderKL, DiffusionModelUNet, PatchDiscriminator\n",
    "from generative.networks.schedulers import DDPMScheduler\n",
    "\n",
    "import cv2\n",
    "import glob\n",
    "from torch.utils.data import Dataset, DataLoader\n",
    "torch.cuda.empty_cache()\n",
    "print_config()"
   ]
  },
  {
   "cell_type": "code",
   "execution_count": 2,
   "id": "91f67a2a-7155-45cd-a69c-de9581775cdb",
   "metadata": {},
   "outputs": [],
   "source": [
    "set_determinism(42)"
   ]
  },
  {
   "cell_type": "markdown",
   "id": "5df88095-05ed-4211-ad54-799d5a535232",
   "metadata": {},
   "source": [
    "## Custom Dataset same as that is used in autoencoder\n",
    "## 0 -> null class , 1 -> Normal , 2 -> Level_1 , 3 -> Level_2, 4 -> Level_3, 5-> Worse."
   ]
  },
  {
   "cell_type": "code",
   "execution_count": 3,
   "id": "cb5bd2ae-5c6b-4192-ae8e-e6f85e85029f",
   "metadata": {},
   "outputs": [],
   "source": [
    "class CustomDataset(Dataset):\n",
    "  def __init__(self,path):\n",
    "    self.imgs_path = path\n",
    "    file_list = glob.glob(self.imgs_path+ \"*\")\n",
    "\n",
    "    self.data=[]\n",
    "    for class_path in file_list:\n",
    "      class_name = class_path.split(\"/\")[-1]\n",
    "      for img_path in glob.glob(class_path+\"/*\"):\n",
    "          self.data.append([img_path,1+int(class_name)])\n",
    "        # self.data.append([img_path,1 if class_name==\"0\" or class_name ==\"1\" else 2])\n",
    "\n",
    "  def __len__(self):\n",
    "    return len(self.data)\n",
    "\n",
    "  def __getitem__(self,idx):\n",
    "    img_path,class_id = self.data[idx]\n",
    "    img = cv2.imread(img_path)\n",
    "    img = cv2.resize(img,(112,112)) # resizing here\n",
    "    gray_image = cv2.cvtColor(img,cv2.COLOR_BGR2GRAY)\n",
    "    gray_image.resize(112,112,1)\n",
    "    img_tensor = torch.from_numpy(gray_image*1.0)\n",
    "    img_tensor = img_tensor.permute(2,0,1)\n",
    "    class_id = torch.tensor([class_id])\n",
    "    img_tensor /= 255.\n",
    "    return img_tensor.float() , class_id.squeeze()"
   ]
  },
  {
   "cell_type": "code",
   "execution_count": 4,
   "id": "76cad44c-5f5a-40d8-8394-dedaebc352b3",
   "metadata": {},
   "outputs": [],
   "source": [
    "## Define the custom dataset\n",
    "training_dataset = CustomDataset('/home/default/monai_generative_ai/Knee_Osteoarthritis/train/')\n",
    "validation_dataset = CustomDataset('/home/default/monai_generative_ai/Knee_Osteoarthritis/val/')"
   ]
  },
  {
   "cell_type": "code",
   "execution_count": 5,
   "id": "40264112-3ec6-43da-81f3-c26280722eea",
   "metadata": {},
   "outputs": [
    {
     "data": {
      "text/plain": [
       "5778"
      ]
     },
     "execution_count": 5,
     "metadata": {},
     "output_type": "execute_result"
    }
   ],
   "source": [
    "len(training_dataset)"
   ]
  },
  {
   "cell_type": "code",
   "execution_count": 6,
   "id": "de076832-9b8e-4369-8630-ebd13064e188",
   "metadata": {},
   "outputs": [
    {
     "data": {
      "text/plain": [
       "826"
      ]
     },
     "execution_count": 6,
     "metadata": {},
     "output_type": "execute_result"
    }
   ],
   "source": [
    "len(validation_dataset)"
   ]
  },
  {
   "cell_type": "markdown",
   "id": "90d9c161-18c1-4e48-923e-694ed1014510",
   "metadata": {},
   "source": [
    "# Load autoencoder"
   ]
  },
  {
   "cell_type": "code",
   "execution_count": 7,
   "id": "882e9e5d-3ce8-4073-8711-b72ad3fda480",
   "metadata": {},
   "outputs": [],
   "source": [
    "device = torch.device(\"cuda\")\n",
    "\n",
    "autoencoderkl = AutoencoderKL(\n",
    "    spatial_dims=2,\n",
    "    in_channels=1,\n",
    "    out_channels=1,\n",
    "    num_channels=(128, 128, 256),\n",
    "    latent_channels=3,\n",
    "    num_res_blocks=2,\n",
    "    attention_levels=(False, False, False),\n",
    "    with_encoder_nonlocal_attn=False,\n",
    "    with_decoder_nonlocal_attn=False,\n",
    ")\n",
    "PATH_auto = '/home/default/monai_generative_ai/auto_encoder_model.pt'"
   ]
  },
  {
   "cell_type": "code",
   "execution_count": 8,
   "id": "c440eb5b-d991-44f8-879d-4c16d588be52",
   "metadata": {},
   "outputs": [
    {
     "data": {
      "text/plain": [
       "AutoencoderKL(\n",
       "  (encoder): Encoder(\n",
       "    (blocks): ModuleList(\n",
       "      (0): Convolution(\n",
       "        (conv): Conv2d(1, 128, kernel_size=(3, 3), stride=(1, 1), padding=(1, 1))\n",
       "      )\n",
       "      (1-2): 2 x ResBlock(\n",
       "        (norm1): GroupNorm(32, 128, eps=1e-06, affine=True)\n",
       "        (conv1): Convolution(\n",
       "          (conv): Conv2d(128, 128, kernel_size=(3, 3), stride=(1, 1), padding=(1, 1))\n",
       "        )\n",
       "        (norm2): GroupNorm(32, 128, eps=1e-06, affine=True)\n",
       "        (conv2): Convolution(\n",
       "          (conv): Conv2d(128, 128, kernel_size=(3, 3), stride=(1, 1), padding=(1, 1))\n",
       "        )\n",
       "        (nin_shortcut): Identity()\n",
       "      )\n",
       "      (3): Downsample(\n",
       "        (conv): Convolution(\n",
       "          (conv): Conv2d(128, 128, kernel_size=(3, 3), stride=(2, 2))\n",
       "        )\n",
       "      )\n",
       "      (4-5): 2 x ResBlock(\n",
       "        (norm1): GroupNorm(32, 128, eps=1e-06, affine=True)\n",
       "        (conv1): Convolution(\n",
       "          (conv): Conv2d(128, 128, kernel_size=(3, 3), stride=(1, 1), padding=(1, 1))\n",
       "        )\n",
       "        (norm2): GroupNorm(32, 128, eps=1e-06, affine=True)\n",
       "        (conv2): Convolution(\n",
       "          (conv): Conv2d(128, 128, kernel_size=(3, 3), stride=(1, 1), padding=(1, 1))\n",
       "        )\n",
       "        (nin_shortcut): Identity()\n",
       "      )\n",
       "      (6): Downsample(\n",
       "        (conv): Convolution(\n",
       "          (conv): Conv2d(128, 128, kernel_size=(3, 3), stride=(2, 2))\n",
       "        )\n",
       "      )\n",
       "      (7): ResBlock(\n",
       "        (norm1): GroupNorm(32, 128, eps=1e-06, affine=True)\n",
       "        (conv1): Convolution(\n",
       "          (conv): Conv2d(128, 256, kernel_size=(3, 3), stride=(1, 1), padding=(1, 1))\n",
       "        )\n",
       "        (norm2): GroupNorm(32, 256, eps=1e-06, affine=True)\n",
       "        (conv2): Convolution(\n",
       "          (conv): Conv2d(256, 256, kernel_size=(3, 3), stride=(1, 1), padding=(1, 1))\n",
       "        )\n",
       "        (nin_shortcut): Convolution(\n",
       "          (conv): Conv2d(128, 256, kernel_size=(1, 1), stride=(1, 1))\n",
       "        )\n",
       "      )\n",
       "      (8): ResBlock(\n",
       "        (norm1): GroupNorm(32, 256, eps=1e-06, affine=True)\n",
       "        (conv1): Convolution(\n",
       "          (conv): Conv2d(256, 256, kernel_size=(3, 3), stride=(1, 1), padding=(1, 1))\n",
       "        )\n",
       "        (norm2): GroupNorm(32, 256, eps=1e-06, affine=True)\n",
       "        (conv2): Convolution(\n",
       "          (conv): Conv2d(256, 256, kernel_size=(3, 3), stride=(1, 1), padding=(1, 1))\n",
       "        )\n",
       "        (nin_shortcut): Identity()\n",
       "      )\n",
       "      (9): GroupNorm(32, 256, eps=1e-06, affine=True)\n",
       "      (10): Convolution(\n",
       "        (conv): Conv2d(256, 3, kernel_size=(3, 3), stride=(1, 1), padding=(1, 1))\n",
       "      )\n",
       "    )\n",
       "  )\n",
       "  (decoder): Decoder(\n",
       "    (blocks): ModuleList(\n",
       "      (0): Convolution(\n",
       "        (conv): Conv2d(3, 256, kernel_size=(3, 3), stride=(1, 1), padding=(1, 1))\n",
       "      )\n",
       "      (1-2): 2 x ResBlock(\n",
       "        (norm1): GroupNorm(32, 256, eps=1e-06, affine=True)\n",
       "        (conv1): Convolution(\n",
       "          (conv): Conv2d(256, 256, kernel_size=(3, 3), stride=(1, 1), padding=(1, 1))\n",
       "        )\n",
       "        (norm2): GroupNorm(32, 256, eps=1e-06, affine=True)\n",
       "        (conv2): Convolution(\n",
       "          (conv): Conv2d(256, 256, kernel_size=(3, 3), stride=(1, 1), padding=(1, 1))\n",
       "        )\n",
       "        (nin_shortcut): Identity()\n",
       "      )\n",
       "      (3): Upsample(\n",
       "        (conv): Convolution(\n",
       "          (conv): Conv2d(256, 256, kernel_size=(3, 3), stride=(1, 1), padding=(1, 1))\n",
       "        )\n",
       "      )\n",
       "      (4): ResBlock(\n",
       "        (norm1): GroupNorm(32, 256, eps=1e-06, affine=True)\n",
       "        (conv1): Convolution(\n",
       "          (conv): Conv2d(256, 128, kernel_size=(3, 3), stride=(1, 1), padding=(1, 1))\n",
       "        )\n",
       "        (norm2): GroupNorm(32, 128, eps=1e-06, affine=True)\n",
       "        (conv2): Convolution(\n",
       "          (conv): Conv2d(128, 128, kernel_size=(3, 3), stride=(1, 1), padding=(1, 1))\n",
       "        )\n",
       "        (nin_shortcut): Convolution(\n",
       "          (conv): Conv2d(256, 128, kernel_size=(1, 1), stride=(1, 1))\n",
       "        )\n",
       "      )\n",
       "      (5): ResBlock(\n",
       "        (norm1): GroupNorm(32, 128, eps=1e-06, affine=True)\n",
       "        (conv1): Convolution(\n",
       "          (conv): Conv2d(128, 128, kernel_size=(3, 3), stride=(1, 1), padding=(1, 1))\n",
       "        )\n",
       "        (norm2): GroupNorm(32, 128, eps=1e-06, affine=True)\n",
       "        (conv2): Convolution(\n",
       "          (conv): Conv2d(128, 128, kernel_size=(3, 3), stride=(1, 1), padding=(1, 1))\n",
       "        )\n",
       "        (nin_shortcut): Identity()\n",
       "      )\n",
       "      (6): Upsample(\n",
       "        (conv): Convolution(\n",
       "          (conv): Conv2d(128, 128, kernel_size=(3, 3), stride=(1, 1), padding=(1, 1))\n",
       "        )\n",
       "      )\n",
       "      (7-8): 2 x ResBlock(\n",
       "        (norm1): GroupNorm(32, 128, eps=1e-06, affine=True)\n",
       "        (conv1): Convolution(\n",
       "          (conv): Conv2d(128, 128, kernel_size=(3, 3), stride=(1, 1), padding=(1, 1))\n",
       "        )\n",
       "        (norm2): GroupNorm(32, 128, eps=1e-06, affine=True)\n",
       "        (conv2): Convolution(\n",
       "          (conv): Conv2d(128, 128, kernel_size=(3, 3), stride=(1, 1), padding=(1, 1))\n",
       "        )\n",
       "        (nin_shortcut): Identity()\n",
       "      )\n",
       "      (9): GroupNorm(32, 128, eps=1e-06, affine=True)\n",
       "      (10): Convolution(\n",
       "        (conv): Conv2d(128, 1, kernel_size=(3, 3), stride=(1, 1), padding=(1, 1))\n",
       "      )\n",
       "    )\n",
       "  )\n",
       "  (quant_conv_mu): Convolution(\n",
       "    (conv): Conv2d(3, 3, kernel_size=(1, 1), stride=(1, 1))\n",
       "  )\n",
       "  (quant_conv_log_sigma): Convolution(\n",
       "    (conv): Conv2d(3, 3, kernel_size=(1, 1), stride=(1, 1))\n",
       "  )\n",
       "  (post_quant_conv): Convolution(\n",
       "    (conv): Conv2d(3, 3, kernel_size=(1, 1), stride=(1, 1))\n",
       "  )\n",
       ")"
      ]
     },
     "execution_count": 8,
     "metadata": {},
     "output_type": "execute_result"
    }
   ],
   "source": [
    "autoencoderkl.load_state_dict(torch.load(PATH_auto))\n",
    "autoencoderkl.to(device)"
   ]
  },
  {
   "cell_type": "markdown",
   "id": "edac5ef2-48ed-485e-93c4-ae1c92f31743",
   "metadata": {},
   "source": [
    "## Define embedding and Diffusion models"
   ]
  },
  {
   "cell_type": "code",
   "execution_count": 9,
   "id": "7439786c-d7cf-4220-9c80-343e32093cc7",
   "metadata": {},
   "outputs": [],
   "source": [
    "embedding_dimension = 64\n",
    "unet = DiffusionModelUNet(\n",
    "    spatial_dims=2,\n",
    "    in_channels=3,\n",
    "    out_channels=3,\n",
    "    num_res_blocks=2,\n",
    "    num_channels=(128, 256, 512),\n",
    "    attention_levels=(False, True, True),\n",
    "    num_head_channels=(0, 256, 512),\n",
    "    with_conditioning=True,\n",
    "    cross_attention_dim=embedding_dimension\n",
    ")\n",
    "unet = unet.to(device)\n",
    "embed = torch.nn.Embedding(num_embeddings=6, embedding_dim=embedding_dimension, padding_idx=0).to(device)\n",
    "scheduler = DDPMScheduler(num_train_timesteps=1000, schedule=\"linear_beta\", beta_start=0.0015, beta_end=0.0195)"
   ]
  },
  {
   "cell_type": "code",
   "execution_count": null,
   "id": "ed1b2eda-e488-4462-87b5-3c82b1790894",
   "metadata": {},
   "outputs": [],
   "source": []
  },
  {
   "cell_type": "code",
   "execution_count": 10,
   "id": "022bb16a-5e78-4014-9876-21948aa0002f",
   "metadata": {},
   "outputs": [],
   "source": [
    "train_loader = DataLoader(training_dataset, batch_size=64, shuffle=True, num_workers=4, persistent_workers=True)"
   ]
  },
  {
   "cell_type": "code",
   "execution_count": 11,
   "id": "3bc9ea97-dffd-47df-ab8f-6f0408931426",
   "metadata": {},
   "outputs": [],
   "source": [
    "check_data = first(train_loader)"
   ]
  },
  {
   "cell_type": "markdown",
   "id": "43d4c725-3dc8-4871-992d-168e25adfea5",
   "metadata": {},
   "source": [
    "## Get scaling factor for LatentDiffusionInferer from autoencoder"
   ]
  },
  {
   "cell_type": "code",
   "execution_count": 13,
   "id": "98a95f01-5d75-4304-b616-b5ee4e12b071",
   "metadata": {},
   "outputs": [
    {
     "name": "stdout",
     "output_type": "stream",
     "text": [
      "Scaling factor set to 0.943597137928009\n"
     ]
    }
   ],
   "source": [
    "with torch.no_grad():\n",
    "    with autocast(enabled=True):\n",
    "        # inp = check_data[0].to(device)\n",
    "        z = autoencoderkl.encode_stage_2_inputs(check_data[0].to(device))\n",
    "\n",
    "print(f\"Scaling factor set to {1/torch.std(z)}\")\n",
    "scale_factor = 1 / torch.std(z)"
   ]
  },
  {
   "cell_type": "code",
   "execution_count": 14,
   "id": "67027460-aff7-47cd-a47f-e5d4580e7373",
   "metadata": {},
   "outputs": [],
   "source": [
    "inferer = LatentDiffusionInferer(scheduler, scale_factor=scale_factor)"
   ]
  },
  {
   "cell_type": "code",
   "execution_count": 15,
   "id": "744a20a2-e1bf-4065-b576-a921c7d8367d",
   "metadata": {},
   "outputs": [],
   "source": [
    "optimizer = torch.optim.Adam(params=list(unet.parameters()) + list(embed.parameters()), lr=1e-5)"
   ]
  },
  {
   "cell_type": "markdown",
   "id": "24e8a00c-850e-40b9-a5e8-9572af52c56b",
   "metadata": {},
   "source": [
    "## Check the shape of images and classes"
   ]
  },
  {
   "cell_type": "code",
   "execution_count": 17,
   "id": "52206138-ae51-4ac5-8128-95d66720a38a",
   "metadata": {},
   "outputs": [],
   "source": [
    "condition_dropout = 0.15\n",
    "for batch in train_loader:\n",
    "    images = batch[0].to(device)\n",
    "    classes = batch[1].to(device)\n",
    "    classes = classes * (torch.rand_like(classes.float())>condition_dropout)\n",
    "    class_embedding = embed(classes.long().to(device)).unsqueeze(1)\n",
    "    break"
   ]
  },
  {
   "cell_type": "code",
   "execution_count": 18,
   "id": "e8f64738-7bae-400f-bff6-9ba1099265ea",
   "metadata": {},
   "outputs": [
    {
     "data": {
      "text/plain": [
       "torch.Size([64, 1, 112, 112])"
      ]
     },
     "execution_count": 18,
     "metadata": {},
     "output_type": "execute_result"
    }
   ],
   "source": [
    "images.shape"
   ]
  },
  {
   "cell_type": "code",
   "execution_count": 19,
   "id": "16d7e690-dbb8-47f4-89f5-1b1aae1fa9d5",
   "metadata": {},
   "outputs": [
    {
     "data": {
      "text/plain": [
       "tensor([3, 1, 4, 1, 3, 3, 1, 0, 1, 3, 4, 5, 1, 1, 4, 2, 0, 2, 3, 3, 1, 4, 3, 2,\n",
       "        3, 2, 0, 1, 4, 4, 3, 3, 0, 0, 0, 1, 3, 1, 3, 3, 1, 2, 1, 3, 1, 4, 0, 3,\n",
       "        1, 3, 1, 1, 1, 0, 3, 4, 0, 2, 4, 1, 1, 1, 1, 4], device='cuda:0')"
      ]
     },
     "execution_count": 19,
     "metadata": {},
     "output_type": "execute_result"
    }
   ],
   "source": [
    "classes"
   ]
  },
  {
   "cell_type": "code",
   "execution_count": 21,
   "id": "757f35a8-be66-4481-841e-0895be1c2176",
   "metadata": {},
   "outputs": [
    {
     "data": {
      "text/plain": [
       "torch.Size([64, 1, 64])"
      ]
     },
     "execution_count": 21,
     "metadata": {},
     "output_type": "execute_result"
    }
   ],
   "source": [
    "class_embedding.shape"
   ]
  },
  {
   "cell_type": "markdown",
   "id": "dbb11e76-6bbb-4340-9ed2-0b7031e85ea9",
   "metadata": {},
   "source": [
    "## Training , Save the checkpoints in checkpoints directory "
   ]
  },
  {
   "cell_type": "code",
   "execution_count": 23,
   "id": "dd57b95e-617a-4692-afca-67905af9c661",
   "metadata": {
    "scrolled": true
   },
   "outputs": [
    {
     "name": "stderr",
     "output_type": "stream",
     "text": [
      "Epoch 0: 100%|████████████| 91/91 [00:23<00:00,  3.91it/s, loss=0.254]\n",
      "Epoch 1: 100%|████████████| 91/91 [00:23<00:00,  3.89it/s, loss=0.225]\n",
      "Epoch 2: 100%|██████████████| 91/91 [00:23<00:00,  3.89it/s, loss=0.2]\n",
      "Epoch 3: 100%|████████████| 91/91 [00:23<00:00,  3.88it/s, loss=0.186]\n",
      "Epoch 4: 100%|████████████| 91/91 [00:23<00:00,  3.88it/s, loss=0.175]\n",
      "Epoch 5: 100%|████████████| 91/91 [00:23<00:00,  3.88it/s, loss=0.167]\n",
      "Epoch 6: 100%|████████████| 91/91 [00:23<00:00,  3.86it/s, loss=0.167]\n",
      "Epoch 7: 100%|████████████| 91/91 [00:23<00:00,  3.88it/s, loss=0.162]\n",
      "Epoch 8: 100%|█████████████| 91/91 [00:23<00:00,  3.88it/s, loss=0.16]\n",
      "Epoch 9: 100%|████████████| 91/91 [00:23<00:00,  3.88it/s, loss=0.154]\n",
      "Epoch 10: 100%|███████████| 91/91 [00:23<00:00,  3.88it/s, loss=0.151]\n",
      "Epoch 11: 100%|███████████| 91/91 [00:23<00:00,  3.88it/s, loss=0.158]\n",
      "Epoch 12: 100%|███████████| 91/91 [00:23<00:00,  3.88it/s, loss=0.155]\n",
      "Epoch 13: 100%|███████████| 91/91 [00:23<00:00,  3.89it/s, loss=0.153]\n",
      "Epoch 14: 100%|███████████| 91/91 [00:23<00:00,  3.88it/s, loss=0.146]\n",
      "Epoch 15: 100%|███████████| 91/91 [00:23<00:00,  3.88it/s, loss=0.149]\n",
      "Epoch 16: 100%|███████████| 91/91 [00:23<00:00,  3.88it/s, loss=0.151]\n",
      "Epoch 17: 100%|███████████| 91/91 [00:23<00:00,  3.88it/s, loss=0.152]\n",
      "Epoch 18: 100%|███████████| 91/91 [00:23<00:00,  3.89it/s, loss=0.151]\n",
      "Epoch 19: 100%|███████████| 91/91 [00:23<00:00,  3.88it/s, loss=0.147]\n",
      "Epoch 20: 100%|███████████| 91/91 [00:23<00:00,  3.88it/s, loss=0.151]\n",
      "Epoch 21: 100%|███████████| 91/91 [00:23<00:00,  3.88it/s, loss=0.148]\n",
      "Epoch 22: 100%|███████████| 91/91 [00:23<00:00,  3.88it/s, loss=0.145]\n",
      "Epoch 23: 100%|███████████| 91/91 [00:23<00:00,  3.88it/s, loss=0.152]\n",
      "Epoch 24: 100%|███████████| 91/91 [00:23<00:00,  3.88it/s, loss=0.147]\n"
     ]
    },
    {
     "name": "stdout",
     "output_type": "stream",
     "text": [
      "saving model\n"
     ]
    },
    {
     "name": "stderr",
     "output_type": "stream",
     "text": [
      "Epoch 25: 100%|███████████| 91/91 [00:23<00:00,  3.89it/s, loss=0.152]\n",
      "Epoch 26: 100%|███████████| 91/91 [00:23<00:00,  3.89it/s, loss=0.144]\n",
      "Epoch 27: 100%|███████████| 91/91 [00:23<00:00,  3.89it/s, loss=0.154]\n",
      "Epoch 28: 100%|███████████| 91/91 [00:23<00:00,  3.89it/s, loss=0.142]\n",
      "Epoch 29: 100%|███████████| 91/91 [00:23<00:00,  3.89it/s, loss=0.147]\n",
      "Epoch 30: 100%|███████████| 91/91 [00:23<00:00,  3.89it/s, loss=0.148]\n",
      "Epoch 31: 100%|███████████| 91/91 [00:23<00:00,  3.89it/s, loss=0.148]\n",
      "Epoch 32: 100%|███████████| 91/91 [00:23<00:00,  3.89it/s, loss=0.143]\n",
      "Epoch 33: 100%|███████████| 91/91 [00:23<00:00,  3.89it/s, loss=0.144]\n",
      "Epoch 34: 100%|███████████| 91/91 [00:23<00:00,  3.89it/s, loss=0.145]\n",
      "Epoch 35: 100%|███████████| 91/91 [00:23<00:00,  3.89it/s, loss=0.148]\n",
      "Epoch 36: 100%|███████████| 91/91 [00:23<00:00,  3.89it/s, loss=0.141]\n",
      "Epoch 37: 100%|███████████| 91/91 [00:23<00:00,  3.89it/s, loss=0.143]\n",
      "Epoch 38: 100%|███████████| 91/91 [00:23<00:00,  3.89it/s, loss=0.146]\n",
      "Epoch 39: 100%|████████████| 91/91 [00:23<00:00,  3.89it/s, loss=0.14]\n"
     ]
    },
    {
     "name": "stdout",
     "output_type": "stream",
     "text": [
      "Epoch 39 val loss: 0.1490\n"
     ]
    },
    {
     "name": "stderr",
     "output_type": "stream",
     "text": [
      "Epoch 40: 100%|███████████| 91/91 [00:23<00:00,  3.89it/s, loss=0.144]\n",
      "Epoch 41: 100%|███████████| 91/91 [00:23<00:00,  3.89it/s, loss=0.143]\n",
      "Epoch 42: 100%|███████████| 91/91 [00:23<00:00,  3.89it/s, loss=0.144]\n",
      "Epoch 43: 100%|███████████| 91/91 [00:23<00:00,  3.89it/s, loss=0.151]\n",
      "Epoch 44: 100%|███████████| 91/91 [00:23<00:00,  3.87it/s, loss=0.144]\n",
      "Epoch 45: 100%|███████████| 91/91 [00:23<00:00,  3.89it/s, loss=0.145]\n",
      "Epoch 46: 100%|████████████| 91/91 [00:23<00:00,  3.89it/s, loss=0.14]\n",
      "Epoch 47: 100%|███████████| 91/91 [00:23<00:00,  3.89it/s, loss=0.145]\n",
      "Epoch 48: 100%|███████████| 91/91 [00:23<00:00,  3.89it/s, loss=0.146]\n",
      "Epoch 49: 100%|███████████| 91/91 [00:23<00:00,  3.89it/s, loss=0.142]\n"
     ]
    },
    {
     "name": "stdout",
     "output_type": "stream",
     "text": [
      "saving model\n"
     ]
    },
    {
     "name": "stderr",
     "output_type": "stream",
     "text": [
      "Epoch 50: 100%|███████████| 91/91 [00:23<00:00,  3.89it/s, loss=0.146]\n",
      "Epoch 51: 100%|███████████| 91/91 [00:23<00:00,  3.89it/s, loss=0.149]\n",
      "Epoch 52: 100%|███████████| 91/91 [00:23<00:00,  3.89it/s, loss=0.145]\n",
      "Epoch 53: 100%|███████████| 91/91 [00:23<00:00,  3.89it/s, loss=0.142]\n",
      "Epoch 54: 100%|███████████| 91/91 [00:23<00:00,  3.89it/s, loss=0.142]\n",
      "Epoch 55: 100%|███████████| 91/91 [00:23<00:00,  3.89it/s, loss=0.142]\n",
      "Epoch 56: 100%|████████████| 91/91 [00:23<00:00,  3.89it/s, loss=0.14]\n",
      "Epoch 57: 100%|███████████| 91/91 [00:23<00:00,  3.89it/s, loss=0.141]\n",
      "Epoch 58: 100%|████████████| 91/91 [00:23<00:00,  3.89it/s, loss=0.14]\n",
      "Epoch 59: 100%|███████████| 91/91 [00:23<00:00,  3.89it/s, loss=0.143]\n",
      "Epoch 60: 100%|███████████| 91/91 [00:23<00:00,  3.89it/s, loss=0.147]\n",
      "Epoch 61: 100%|███████████| 91/91 [00:23<00:00,  3.89it/s, loss=0.141]\n",
      "Epoch 62: 100%|████████████| 91/91 [00:23<00:00,  3.88it/s, loss=0.14]\n",
      "Epoch 63: 100%|███████████| 91/91 [00:23<00:00,  3.89it/s, loss=0.141]\n",
      "Epoch 64: 100%|███████████| 91/91 [00:23<00:00,  3.89it/s, loss=0.144]\n",
      "Epoch 65: 100%|███████████| 91/91 [00:23<00:00,  3.89it/s, loss=0.139]\n",
      "Epoch 66: 100%|███████████| 91/91 [00:23<00:00,  3.89it/s, loss=0.137]\n",
      "Epoch 67: 100%|███████████| 91/91 [00:23<00:00,  3.89it/s, loss=0.141]\n",
      "Epoch 68: 100%|███████████| 91/91 [00:23<00:00,  3.89it/s, loss=0.142]\n",
      "Epoch 69: 100%|███████████| 91/91 [00:23<00:00,  3.89it/s, loss=0.143]\n",
      "Epoch 70: 100%|███████████| 91/91 [00:23<00:00,  3.89it/s, loss=0.138]\n",
      "Epoch 71: 100%|███████████| 91/91 [00:23<00:00,  3.89it/s, loss=0.139]\n",
      "Epoch 72: 100%|████████████| 91/91 [00:23<00:00,  3.89it/s, loss=0.14]\n",
      "Epoch 73: 100%|███████████| 91/91 [00:23<00:00,  3.89it/s, loss=0.137]\n",
      "Epoch 74: 100%|███████████| 91/91 [00:23<00:00,  3.89it/s, loss=0.144]\n"
     ]
    },
    {
     "name": "stdout",
     "output_type": "stream",
     "text": [
      "saving model\n"
     ]
    },
    {
     "name": "stderr",
     "output_type": "stream",
     "text": [
      "Epoch 75: 100%|███████████| 91/91 [00:23<00:00,  3.89it/s, loss=0.134]\n",
      "Epoch 76: 100%|███████████| 91/91 [00:23<00:00,  3.89it/s, loss=0.146]\n",
      "Epoch 77: 100%|███████████| 91/91 [00:23<00:00,  3.89it/s, loss=0.146]\n",
      "Epoch 78: 100%|███████████| 91/91 [00:23<00:00,  3.89it/s, loss=0.143]\n",
      "Epoch 79: 100%|███████████| 91/91 [00:23<00:00,  3.89it/s, loss=0.142]\n"
     ]
    },
    {
     "name": "stdout",
     "output_type": "stream",
     "text": [
      "Epoch 79 val loss: 0.1338\n"
     ]
    },
    {
     "name": "stderr",
     "output_type": "stream",
     "text": [
      "Epoch 80: 100%|███████████| 91/91 [00:23<00:00,  3.88it/s, loss=0.141]\n",
      "Epoch 81: 100%|███████████| 91/91 [00:23<00:00,  3.89it/s, loss=0.138]\n",
      "Epoch 82: 100%|███████████| 91/91 [00:23<00:00,  3.89it/s, loss=0.143]\n",
      "Epoch 83: 100%|███████████| 91/91 [00:23<00:00,  3.89it/s, loss=0.143]\n",
      "Epoch 84: 100%|████████████| 91/91 [00:23<00:00,  3.89it/s, loss=0.14]\n",
      "Epoch 85: 100%|███████████| 91/91 [00:23<00:00,  3.89it/s, loss=0.141]\n",
      "Epoch 86: 100%|███████████| 91/91 [00:23<00:00,  3.89it/s, loss=0.145]\n",
      "Epoch 87: 100%|███████████| 91/91 [00:23<00:00,  3.89it/s, loss=0.142]\n",
      "Epoch 88: 100%|███████████| 91/91 [00:23<00:00,  3.89it/s, loss=0.143]\n",
      "Epoch 89: 100%|███████████| 91/91 [00:23<00:00,  3.89it/s, loss=0.144]\n",
      "Epoch 90: 100%|███████████| 91/91 [00:23<00:00,  3.89it/s, loss=0.141]\n",
      "Epoch 91: 100%|███████████| 91/91 [00:23<00:00,  3.89it/s, loss=0.137]\n",
      "Epoch 92: 100%|███████████| 91/91 [00:23<00:00,  3.89it/s, loss=0.139]\n",
      "Epoch 93: 100%|███████████| 91/91 [00:23<00:00,  3.89it/s, loss=0.141]\n",
      "Epoch 94: 100%|███████████| 91/91 [00:23<00:00,  3.89it/s, loss=0.144]\n",
      "Epoch 95: 100%|███████████| 91/91 [00:23<00:00,  3.89it/s, loss=0.141]\n",
      "Epoch 96: 100%|███████████| 91/91 [00:23<00:00,  3.89it/s, loss=0.141]\n",
      "Epoch 97: 100%|███████████| 91/91 [00:23<00:00,  3.89it/s, loss=0.139]\n",
      "Epoch 98: 100%|███████████| 91/91 [00:23<00:00,  3.89it/s, loss=0.139]\n",
      "Epoch 99: 100%|███████████| 91/91 [00:23<00:00,  3.88it/s, loss=0.135]\n"
     ]
    },
    {
     "name": "stdout",
     "output_type": "stream",
     "text": [
      "saving model\n"
     ]
    },
    {
     "name": "stderr",
     "output_type": "stream",
     "text": [
      "Epoch 100: 100%|███████████| 91/91 [00:23<00:00,  3.89it/s, loss=0.14]\n",
      "Epoch 101: 100%|██████████| 91/91 [00:23<00:00,  3.89it/s, loss=0.137]\n",
      "Epoch 102: 100%|██████████| 91/91 [00:23<00:00,  3.89it/s, loss=0.143]\n",
      "Epoch 103: 100%|██████████| 91/91 [00:23<00:00,  3.89it/s, loss=0.138]\n",
      "Epoch 104: 100%|██████████| 91/91 [00:23<00:00,  3.89it/s, loss=0.144]\n",
      "Epoch 105: 100%|██████████| 91/91 [00:23<00:00,  3.89it/s, loss=0.139]\n",
      "Epoch 106: 100%|██████████| 91/91 [00:23<00:00,  3.89it/s, loss=0.143]\n",
      "Epoch 107: 100%|██████████| 91/91 [00:23<00:00,  3.89it/s, loss=0.139]\n",
      "Epoch 108: 100%|██████████| 91/91 [00:23<00:00,  3.89it/s, loss=0.136]\n",
      "Epoch 109: 100%|███████████| 91/91 [00:23<00:00,  3.89it/s, loss=0.14]\n",
      "Epoch 110: 100%|██████████| 91/91 [00:23<00:00,  3.90it/s, loss=0.137]\n",
      "Epoch 111: 100%|██████████| 91/91 [00:23<00:00,  3.89it/s, loss=0.141]\n",
      "Epoch 112: 100%|███████████| 91/91 [00:23<00:00,  3.89it/s, loss=0.14]\n",
      "Epoch 113: 100%|██████████| 91/91 [00:23<00:00,  3.90it/s, loss=0.142]\n",
      "Epoch 114: 100%|██████████| 91/91 [00:23<00:00,  3.89it/s, loss=0.137]\n",
      "Epoch 115: 100%|██████████| 91/91 [00:23<00:00,  3.89it/s, loss=0.146]\n",
      "Epoch 116: 100%|██████████| 91/91 [00:23<00:00,  3.89it/s, loss=0.139]\n",
      "Epoch 117: 100%|██████████| 91/91 [00:23<00:00,  3.88it/s, loss=0.133]\n",
      "Epoch 118: 100%|██████████| 91/91 [00:23<00:00,  3.89it/s, loss=0.141]\n",
      "Epoch 119: 100%|██████████| 91/91 [00:23<00:00,  3.89it/s, loss=0.133]\n"
     ]
    },
    {
     "name": "stdout",
     "output_type": "stream",
     "text": [
      "Epoch 119 val loss: 0.1514\n"
     ]
    },
    {
     "name": "stderr",
     "output_type": "stream",
     "text": [
      "Epoch 120: 100%|██████████| 91/91 [00:23<00:00,  3.89it/s, loss=0.142]\n",
      "Epoch 121: 100%|██████████| 91/91 [00:23<00:00,  3.89it/s, loss=0.138]\n",
      "Epoch 122: 100%|██████████| 91/91 [00:23<00:00,  3.89it/s, loss=0.142]\n",
      "Epoch 123: 100%|██████████| 91/91 [00:23<00:00,  3.89it/s, loss=0.133]\n",
      "Epoch 124: 100%|██████████| 91/91 [00:23<00:00,  3.89it/s, loss=0.138]\n"
     ]
    },
    {
     "name": "stdout",
     "output_type": "stream",
     "text": [
      "saving model\n"
     ]
    },
    {
     "name": "stderr",
     "output_type": "stream",
     "text": [
      "Epoch 125: 100%|███████████| 91/91 [00:23<00:00,  3.89it/s, loss=0.14]\n",
      "Epoch 126: 100%|██████████| 91/91 [00:23<00:00,  3.89it/s, loss=0.141]\n",
      "Epoch 127: 100%|██████████| 91/91 [00:23<00:00,  3.89it/s, loss=0.137]\n",
      "Epoch 128: 100%|██████████| 91/91 [00:23<00:00,  3.89it/s, loss=0.138]\n",
      "Epoch 129: 100%|██████████| 91/91 [00:23<00:00,  3.89it/s, loss=0.138]\n",
      "Epoch 130: 100%|██████████| 91/91 [00:23<00:00,  3.89it/s, loss=0.139]\n",
      "Epoch 131: 100%|██████████| 91/91 [00:23<00:00,  3.89it/s, loss=0.139]\n",
      "Epoch 132: 100%|███████████| 91/91 [00:23<00:00,  3.89it/s, loss=0.14]\n",
      "Epoch 133: 100%|██████████| 91/91 [00:23<00:00,  3.89it/s, loss=0.139]\n",
      "Epoch 134: 100%|██████████| 91/91 [00:23<00:00,  3.89it/s, loss=0.137]\n",
      "Epoch 135: 100%|██████████| 91/91 [00:23<00:00,  3.88it/s, loss=0.136]\n",
      "Epoch 136: 100%|██████████| 91/91 [00:23<00:00,  3.89it/s, loss=0.141]\n",
      "Epoch 137: 100%|██████████| 91/91 [00:23<00:00,  3.89it/s, loss=0.136]\n",
      "Epoch 138: 100%|██████████| 91/91 [00:23<00:00,  3.89it/s, loss=0.137]\n",
      "Epoch 139: 100%|██████████| 91/91 [00:23<00:00,  3.89it/s, loss=0.135]\n",
      "Epoch 140: 100%|██████████| 91/91 [00:23<00:00,  3.89it/s, loss=0.139]\n",
      "Epoch 141: 100%|██████████| 91/91 [00:23<00:00,  3.89it/s, loss=0.135]\n",
      "Epoch 142: 100%|███████████| 91/91 [00:23<00:00,  3.89it/s, loss=0.14]\n",
      "Epoch 143: 100%|██████████| 91/91 [00:23<00:00,  3.89it/s, loss=0.138]\n",
      "Epoch 144: 100%|██████████| 91/91 [00:23<00:00,  3.89it/s, loss=0.137]\n",
      "Epoch 145: 100%|██████████| 91/91 [00:23<00:00,  3.89it/s, loss=0.141]\n",
      "Epoch 146: 100%|██████████| 91/91 [00:23<00:00,  3.89it/s, loss=0.134]\n",
      "Epoch 147: 100%|██████████| 91/91 [00:23<00:00,  3.89it/s, loss=0.139]\n",
      "Epoch 148: 100%|██████████| 91/91 [00:23<00:00,  3.89it/s, loss=0.134]\n",
      "Epoch 149: 100%|██████████| 91/91 [00:23<00:00,  3.89it/s, loss=0.135]\n"
     ]
    },
    {
     "name": "stdout",
     "output_type": "stream",
     "text": [
      "saving model\n"
     ]
    },
    {
     "name": "stderr",
     "output_type": "stream",
     "text": [
      "Epoch 150: 100%|██████████| 91/91 [00:23<00:00,  3.89it/s, loss=0.142]\n",
      "Epoch 151: 100%|██████████| 91/91 [00:23<00:00,  3.89it/s, loss=0.138]\n",
      "Epoch 152: 100%|███████████| 91/91 [00:23<00:00,  3.89it/s, loss=0.14]\n",
      "Epoch 153: 100%|██████████| 91/91 [00:23<00:00,  3.88it/s, loss=0.135]\n",
      "Epoch 154: 100%|███████████| 91/91 [00:23<00:00,  3.90it/s, loss=0.14]\n",
      "Epoch 155: 100%|██████████| 91/91 [00:23<00:00,  3.89it/s, loss=0.136]\n",
      "Epoch 156: 100%|██████████| 91/91 [00:23<00:00,  3.89it/s, loss=0.135]\n",
      "Epoch 157: 100%|██████████| 91/91 [00:23<00:00,  3.89it/s, loss=0.141]\n",
      "Epoch 158: 100%|███████████| 91/91 [00:23<00:00,  3.89it/s, loss=0.14]\n",
      "Epoch 159: 100%|██████████| 91/91 [00:23<00:00,  3.89it/s, loss=0.137]\n"
     ]
    },
    {
     "name": "stdout",
     "output_type": "stream",
     "text": [
      "Epoch 159 val loss: 0.1372\n"
     ]
    },
    {
     "name": "stderr",
     "output_type": "stream",
     "text": [
      "Epoch 160: 100%|██████████| 91/91 [00:23<00:00,  3.89it/s, loss=0.136]\n",
      "Epoch 161: 100%|██████████| 91/91 [00:23<00:00,  3.89it/s, loss=0.138]\n",
      "Epoch 162: 100%|██████████| 91/91 [00:23<00:00,  3.90it/s, loss=0.141]\n",
      "Epoch 163: 100%|███████████| 91/91 [00:23<00:00,  3.90it/s, loss=0.14]\n",
      "Epoch 164: 100%|██████████| 91/91 [00:23<00:00,  3.89it/s, loss=0.137]\n",
      "Epoch 165: 100%|██████████| 91/91 [00:23<00:00,  3.89it/s, loss=0.142]\n",
      "Epoch 166: 100%|██████████| 91/91 [00:23<00:00,  3.90it/s, loss=0.135]\n",
      "Epoch 167: 100%|██████████| 91/91 [00:23<00:00,  3.89it/s, loss=0.137]\n",
      "Epoch 168: 100%|██████████| 91/91 [00:23<00:00,  3.89it/s, loss=0.137]\n",
      "Epoch 169: 100%|██████████| 91/91 [00:23<00:00,  3.89it/s, loss=0.135]\n",
      "Epoch 170: 100%|██████████| 91/91 [00:23<00:00,  3.89it/s, loss=0.137]\n",
      "Epoch 171: 100%|██████████| 91/91 [00:23<00:00,  3.89it/s, loss=0.138]\n",
      "Epoch 172: 100%|██████████| 91/91 [00:23<00:00,  3.89it/s, loss=0.141]\n",
      "Epoch 173: 100%|██████████| 91/91 [00:23<00:00,  3.88it/s, loss=0.139]\n",
      "Epoch 174: 100%|██████████| 91/91 [00:23<00:00,  3.89it/s, loss=0.135]\n"
     ]
    },
    {
     "name": "stdout",
     "output_type": "stream",
     "text": [
      "saving model\n"
     ]
    },
    {
     "name": "stderr",
     "output_type": "stream",
     "text": [
      "Epoch 175: 100%|██████████| 91/91 [00:23<00:00,  3.90it/s, loss=0.138]\n",
      "Epoch 176: 100%|██████████| 91/91 [00:23<00:00,  3.90it/s, loss=0.135]\n",
      "Epoch 177: 100%|██████████| 91/91 [00:23<00:00,  3.89it/s, loss=0.135]\n",
      "Epoch 178: 100%|██████████| 91/91 [00:23<00:00,  3.89it/s, loss=0.137]\n",
      "Epoch 179: 100%|██████████| 91/91 [00:23<00:00,  3.89it/s, loss=0.137]\n",
      "Epoch 180: 100%|██████████| 91/91 [00:23<00:00,  3.89it/s, loss=0.127]\n",
      "Epoch 181: 100%|██████████| 91/91 [00:23<00:00,  3.90it/s, loss=0.138]\n",
      "Epoch 182: 100%|██████████| 91/91 [00:23<00:00,  3.89it/s, loss=0.143]\n",
      "Epoch 183: 100%|██████████| 91/91 [00:23<00:00,  3.89it/s, loss=0.137]\n",
      "Epoch 184: 100%|██████████| 91/91 [00:23<00:00,  3.89it/s, loss=0.133]\n",
      "Epoch 185: 100%|██████████| 91/91 [00:23<00:00,  3.89it/s, loss=0.139]\n",
      "Epoch 186: 100%|██████████| 91/91 [00:23<00:00,  3.89it/s, loss=0.132]\n",
      "Epoch 187: 100%|██████████| 91/91 [00:23<00:00,  3.89it/s, loss=0.135]\n",
      "Epoch 188: 100%|██████████| 91/91 [00:23<00:00,  3.89it/s, loss=0.139]\n",
      "Epoch 189: 100%|██████████| 91/91 [00:23<00:00,  3.89it/s, loss=0.135]\n",
      "Epoch 190: 100%|██████████| 91/91 [00:23<00:00,  3.88it/s, loss=0.133]\n",
      "Epoch 191: 100%|██████████| 91/91 [00:23<00:00,  3.89it/s, loss=0.135]\n",
      "Epoch 192: 100%|██████████| 91/91 [00:23<00:00,  3.89it/s, loss=0.139]\n",
      "Epoch 193: 100%|██████████| 91/91 [00:23<00:00,  3.89it/s, loss=0.138]\n",
      "Epoch 194: 100%|██████████| 91/91 [00:23<00:00,  3.89it/s, loss=0.137]\n",
      "Epoch 195: 100%|██████████| 91/91 [00:23<00:00,  3.89it/s, loss=0.132]\n",
      "Epoch 196: 100%|██████████| 91/91 [00:23<00:00,  3.89it/s, loss=0.133]\n",
      "Epoch 197: 100%|██████████| 91/91 [00:23<00:00,  3.90it/s, loss=0.133]\n",
      "Epoch 198: 100%|███████████| 91/91 [00:23<00:00,  3.90it/s, loss=0.14]\n",
      "Epoch 199: 100%|██████████| 91/91 [00:23<00:00,  3.90it/s, loss=0.137]\n"
     ]
    },
    {
     "name": "stdout",
     "output_type": "stream",
     "text": [
      "Epoch 199 val loss: 0.1456\n",
      "saving model\n"
     ]
    },
    {
     "name": "stderr",
     "output_type": "stream",
     "text": [
      "Epoch 200: 100%|██████████| 91/91 [00:23<00:00,  3.90it/s, loss=0.138]\n",
      "Epoch 201: 100%|██████████| 91/91 [00:23<00:00,  3.90it/s, loss=0.135]\n",
      "Epoch 202: 100%|██████████| 91/91 [00:23<00:00,  3.89it/s, loss=0.139]\n",
      "Epoch 203: 100%|██████████| 91/91 [00:23<00:00,  3.89it/s, loss=0.137]\n",
      "Epoch 204: 100%|██████████| 91/91 [00:23<00:00,  3.89it/s, loss=0.132]\n",
      "Epoch 205: 100%|██████████| 91/91 [00:23<00:00,  3.89it/s, loss=0.137]\n",
      "Epoch 206: 100%|██████████| 91/91 [00:23<00:00,  3.89it/s, loss=0.134]\n",
      "Epoch 207: 100%|██████████| 91/91 [00:23<00:00,  3.89it/s, loss=0.138]\n",
      "Epoch 208: 100%|██████████| 91/91 [00:23<00:00,  3.89it/s, loss=0.139]\n",
      "Epoch 209: 100%|██████████| 91/91 [00:23<00:00,  3.88it/s, loss=0.133]\n",
      "Epoch 210: 100%|██████████| 91/91 [00:23<00:00,  3.89it/s, loss=0.137]\n",
      "Epoch 211: 100%|██████████| 91/91 [00:23<00:00,  3.89it/s, loss=0.139]\n",
      "Epoch 212: 100%|██████████| 91/91 [00:23<00:00,  3.89it/s, loss=0.138]\n",
      "Epoch 213: 100%|██████████| 91/91 [00:23<00:00,  3.89it/s, loss=0.134]\n",
      "Epoch 214: 100%|██████████| 91/91 [00:23<00:00,  3.89it/s, loss=0.132]\n",
      "Epoch 215: 100%|██████████| 91/91 [00:23<00:00,  3.89it/s, loss=0.139]\n",
      "Epoch 216: 100%|██████████| 91/91 [00:23<00:00,  3.89it/s, loss=0.132]\n",
      "Epoch 217: 100%|██████████| 91/91 [00:23<00:00,  3.89it/s, loss=0.135]\n",
      "Epoch 218: 100%|██████████| 91/91 [00:23<00:00,  3.89it/s, loss=0.141]\n",
      "Epoch 219: 100%|██████████| 91/91 [00:23<00:00,  3.89it/s, loss=0.139]\n",
      "Epoch 220: 100%|██████████| 91/91 [00:23<00:00,  3.90it/s, loss=0.135]\n",
      "Epoch 221: 100%|██████████| 91/91 [00:23<00:00,  3.89it/s, loss=0.138]\n",
      "Epoch 222: 100%|██████████| 91/91 [00:23<00:00,  3.89it/s, loss=0.136]\n",
      "Epoch 223: 100%|██████████| 91/91 [00:23<00:00,  3.89it/s, loss=0.136]\n",
      "Epoch 224: 100%|██████████| 91/91 [00:23<00:00,  3.89it/s, loss=0.136]\n"
     ]
    },
    {
     "name": "stdout",
     "output_type": "stream",
     "text": [
      "saving model\n"
     ]
    },
    {
     "name": "stderr",
     "output_type": "stream",
     "text": [
      "Epoch 225: 100%|██████████| 91/91 [00:23<00:00,  3.89it/s, loss=0.137]\n",
      "Epoch 226: 100%|██████████| 91/91 [00:23<00:00,  3.89it/s, loss=0.132]\n",
      "Epoch 227: 100%|███████████| 91/91 [00:23<00:00,  3.88it/s, loss=0.13]\n",
      "Epoch 228: 100%|██████████| 91/91 [00:23<00:00,  3.89it/s, loss=0.129]\n",
      "Epoch 229: 100%|██████████| 91/91 [00:23<00:00,  3.89it/s, loss=0.135]\n",
      "Epoch 230: 100%|██████████| 91/91 [00:23<00:00,  3.89it/s, loss=0.135]\n",
      "Epoch 231: 100%|██████████| 91/91 [00:23<00:00,  3.89it/s, loss=0.134]\n",
      "Epoch 232: 100%|██████████| 91/91 [00:23<00:00,  3.89it/s, loss=0.136]\n",
      "Epoch 233: 100%|██████████| 91/91 [00:23<00:00,  3.89it/s, loss=0.131]\n",
      "Epoch 234: 100%|██████████| 91/91 [00:23<00:00,  3.89it/s, loss=0.135]\n",
      "Epoch 235: 100%|██████████| 91/91 [00:23<00:00,  3.89it/s, loss=0.133]\n",
      "Epoch 236: 100%|███████████| 91/91 [00:23<00:00,  3.89it/s, loss=0.14]\n",
      "Epoch 237: 100%|██████████| 91/91 [00:23<00:00,  3.89it/s, loss=0.137]\n",
      "Epoch 238: 100%|██████████| 91/91 [00:23<00:00,  3.89it/s, loss=0.132]\n",
      "Epoch 239: 100%|██████████| 91/91 [00:23<00:00,  3.89it/s, loss=0.135]\n"
     ]
    },
    {
     "name": "stdout",
     "output_type": "stream",
     "text": [
      "Epoch 239 val loss: 0.1482\n"
     ]
    },
    {
     "name": "stderr",
     "output_type": "stream",
     "text": [
      "Epoch 240: 100%|██████████| 91/91 [00:23<00:00,  3.89it/s, loss=0.129]\n",
      "Epoch 241: 100%|██████████| 91/91 [00:23<00:00,  3.89it/s, loss=0.136]\n",
      "Epoch 242: 100%|██████████| 91/91 [00:23<00:00,  3.89it/s, loss=0.132]\n",
      "Epoch 243: 100%|██████████| 91/91 [00:23<00:00,  3.89it/s, loss=0.138]\n",
      "Epoch 244: 100%|██████████| 91/91 [00:23<00:00,  3.89it/s, loss=0.132]\n",
      "Epoch 245: 100%|██████████| 91/91 [00:23<00:00,  3.89it/s, loss=0.135]\n",
      "Epoch 246: 100%|██████████| 91/91 [00:23<00:00,  3.88it/s, loss=0.135]\n",
      "Epoch 247: 100%|██████████| 91/91 [00:23<00:00,  3.89it/s, loss=0.133]\n",
      "Epoch 248: 100%|██████████| 91/91 [00:23<00:00,  3.89it/s, loss=0.136]\n",
      "Epoch 249: 100%|██████████| 91/91 [00:23<00:00,  3.89it/s, loss=0.136]\n"
     ]
    },
    {
     "name": "stdout",
     "output_type": "stream",
     "text": [
      "saving model\n"
     ]
    },
    {
     "name": "stderr",
     "output_type": "stream",
     "text": [
      "Epoch 250: 100%|██████████| 91/91 [00:23<00:00,  3.89it/s, loss=0.126]\n",
      "Epoch 251: 100%|██████████| 91/91 [00:23<00:00,  3.89it/s, loss=0.136]\n",
      "Epoch 252: 100%|██████████| 91/91 [00:23<00:00,  3.89it/s, loss=0.133]\n",
      "Epoch 253: 100%|██████████| 91/91 [00:23<00:00,  3.89it/s, loss=0.133]\n",
      "Epoch 254: 100%|██████████| 91/91 [00:23<00:00,  3.89it/s, loss=0.133]\n",
      "Epoch 255: 100%|██████████| 91/91 [00:23<00:00,  3.89it/s, loss=0.136]\n",
      "Epoch 256: 100%|███████████| 91/91 [00:23<00:00,  3.89it/s, loss=0.13]\n",
      "Epoch 257: 100%|██████████| 91/91 [00:23<00:00,  3.89it/s, loss=0.134]\n",
      "Epoch 258: 100%|██████████| 91/91 [00:23<00:00,  3.89it/s, loss=0.137]\n",
      "Epoch 259: 100%|██████████| 91/91 [00:23<00:00,  3.89it/s, loss=0.135]\n",
      "Epoch 260: 100%|██████████| 91/91 [00:23<00:00,  3.89it/s, loss=0.135]\n",
      "Epoch 261: 100%|██████████| 91/91 [00:23<00:00,  3.89it/s, loss=0.135]\n",
      "Epoch 262: 100%|██████████| 91/91 [00:23<00:00,  3.89it/s, loss=0.131]\n",
      "Epoch 263: 100%|██████████| 91/91 [00:23<00:00,  3.89it/s, loss=0.132]\n",
      "Epoch 264: 100%|██████████| 91/91 [00:23<00:00,  3.88it/s, loss=0.133]\n",
      "Epoch 265: 100%|██████████| 91/91 [00:23<00:00,  3.89it/s, loss=0.135]\n",
      "Epoch 266: 100%|██████████| 91/91 [00:23<00:00,  3.89it/s, loss=0.133]\n",
      "Epoch 267: 100%|██████████| 91/91 [00:23<00:00,  3.89it/s, loss=0.139]\n",
      "Epoch 268: 100%|██████████| 91/91 [00:23<00:00,  3.89it/s, loss=0.134]\n",
      "Epoch 269: 100%|██████████| 91/91 [00:23<00:00,  3.89it/s, loss=0.131]\n",
      "Epoch 270: 100%|██████████| 91/91 [00:23<00:00,  3.89it/s, loss=0.131]\n",
      "Epoch 271: 100%|██████████| 91/91 [00:23<00:00,  3.89it/s, loss=0.134]\n",
      "Epoch 272: 100%|██████████| 91/91 [00:23<00:00,  3.89it/s, loss=0.138]\n",
      "Epoch 273: 100%|███████████| 91/91 [00:23<00:00,  3.89it/s, loss=0.13]\n",
      "Epoch 274: 100%|██████████| 91/91 [00:23<00:00,  3.89it/s, loss=0.132]\n"
     ]
    },
    {
     "name": "stdout",
     "output_type": "stream",
     "text": [
      "saving model\n"
     ]
    },
    {
     "name": "stderr",
     "output_type": "stream",
     "text": [
      "Epoch 275: 100%|██████████| 91/91 [00:23<00:00,  3.89it/s, loss=0.135]\n",
      "Epoch 276: 100%|███████████| 91/91 [00:23<00:00,  3.89it/s, loss=0.13]\n",
      "Epoch 277: 100%|██████████| 91/91 [00:23<00:00,  3.89it/s, loss=0.132]\n",
      "Epoch 278: 100%|██████████| 91/91 [00:23<00:00,  3.89it/s, loss=0.132]\n",
      "Epoch 279: 100%|██████████| 91/91 [00:23<00:00,  3.89it/s, loss=0.137]\n"
     ]
    },
    {
     "name": "stdout",
     "output_type": "stream",
     "text": [
      "Epoch 279 val loss: 0.1653\n"
     ]
    },
    {
     "name": "stderr",
     "output_type": "stream",
     "text": [
      "Epoch 280: 100%|██████████| 91/91 [00:23<00:00,  3.89it/s, loss=0.132]\n",
      "Epoch 281: 100%|██████████| 91/91 [00:23<00:00,  3.89it/s, loss=0.129]\n",
      "Epoch 282: 100%|██████████| 91/91 [00:23<00:00,  3.88it/s, loss=0.133]\n",
      "Epoch 283: 100%|██████████| 91/91 [00:23<00:00,  3.89it/s, loss=0.129]\n",
      "Epoch 284: 100%|██████████| 91/91 [00:23<00:00,  3.89it/s, loss=0.136]\n",
      "Epoch 285: 100%|██████████| 91/91 [00:23<00:00,  3.89it/s, loss=0.131]\n",
      "Epoch 286: 100%|██████████| 91/91 [00:23<00:00,  3.89it/s, loss=0.129]\n",
      "Epoch 287: 100%|██████████| 91/91 [00:23<00:00,  3.89it/s, loss=0.134]\n",
      "Epoch 288: 100%|██████████| 91/91 [00:23<00:00,  3.89it/s, loss=0.133]\n",
      "Epoch 289: 100%|██████████| 91/91 [00:23<00:00,  3.89it/s, loss=0.132]\n",
      "Epoch 290: 100%|██████████| 91/91 [00:23<00:00,  3.90it/s, loss=0.131]\n",
      "Epoch 291: 100%|██████████| 91/91 [00:23<00:00,  3.89it/s, loss=0.134]\n",
      "Epoch 292: 100%|██████████| 91/91 [00:23<00:00,  3.89it/s, loss=0.131]\n",
      "Epoch 293: 100%|██████████| 91/91 [00:23<00:00,  3.89it/s, loss=0.131]\n",
      "Epoch 294: 100%|███████████| 91/91 [00:23<00:00,  3.89it/s, loss=0.13]\n",
      "Epoch 295: 100%|██████████| 91/91 [00:23<00:00,  3.89it/s, loss=0.134]\n",
      "Epoch 296: 100%|███████████| 91/91 [00:23<00:00,  3.89it/s, loss=0.13]\n",
      "Epoch 297: 100%|██████████| 91/91 [00:23<00:00,  3.89it/s, loss=0.128]\n",
      "Epoch 298: 100%|██████████| 91/91 [00:23<00:00,  3.89it/s, loss=0.129]\n",
      "Epoch 299: 100%|██████████| 91/91 [00:23<00:00,  3.89it/s, loss=0.135]\n"
     ]
    }
   ],
   "source": [
    "condition_dropout = 0.15\n",
    "n_epochs = 300\n",
    "val_interval = 40\n",
    "epoch_losses = []\n",
    "val_losses = []\n",
    "scaler = GradScaler()\n",
    "\n",
    "train_loader = DataLoader(training_dataset, batch_size=64, shuffle=True, num_workers=4, persistent_workers=True)\n",
    "val_loader = DataLoader(validation_dataset, batch_size=64, shuffle=True, num_workers=4, persistent_workers=True)\n",
    "\n",
    "for epoch in range(n_epochs):\n",
    "\n",
    "    if(epoch%25 ==0 and epoch !=0):\n",
    "        print(\"saving model\")\n",
    "        torch.save({\n",
    "            'epoch': epoch,\n",
    "            'model_state_dict': unet.state_dict(),\n",
    "            'optimizer_state_dict': optimizer.state_dict(),\n",
    "            'embed_state_dict':embed.state_dict(),\n",
    "            'loss': loss,\n",
    "            }, f\"checkpoints/{epoch}.pth\")\n",
    "    unet.train()\n",
    "    autoencoderkl.eval()\n",
    "    epoch_loss = 0\n",
    "    progress_bar = tqdm(enumerate(train_loader), total=len(train_loader), ncols=70)\n",
    "    progress_bar.set_description(f\"Epoch {epoch}\")\n",
    "    for step, batch in progress_bar:\n",
    "        images = batch[0].to(device)\n",
    "        classes = batch[1].to(device)\n",
    "        classes = classes * (torch.rand_like(classes.float())>condition_dropout)\n",
    "        class_embedding = embed(classes.long().to(device)).unsqueeze(1)\n",
    "        \n",
    "        optimizer.zero_grad(set_to_none=True)\n",
    "        with autocast(enabled=True):\n",
    "            z_mu, z_sigma = autoencoderkl.encode(images)\n",
    "            z = autoencoderkl.sampling(z_mu, z_sigma)\n",
    "            noise = torch.randn_like(z).to(device)\n",
    "            timesteps = torch.randint(0, inferer.scheduler.num_train_timesteps, (z.shape[0],), device=z.device).long()\n",
    "            noise_pred = inferer(\n",
    "                inputs=images, diffusion_model=unet, noise=noise, timesteps=timesteps, autoencoder_model=autoencoderkl,\n",
    "                condition=class_embedding\n",
    "            )\n",
    "            loss = F.mse_loss(noise_pred.float(), noise.float())\n",
    "\n",
    "        scaler.scale(loss).backward()\n",
    "        scaler.step(optimizer)\n",
    "        scaler.update()\n",
    "\n",
    "        epoch_loss += loss.item()\n",
    "\n",
    "        progress_bar.set_postfix({\"loss\": epoch_loss / (step + 1)})\n",
    "    epoch_losses.append(epoch_loss / (step + 1))\n",
    "\n",
    "    if (epoch + 1) % val_interval == 0:\n",
    "        unet.eval()\n",
    "        val_loss = 0\n",
    "        with torch.no_grad():\n",
    "            for val_step, batch in enumerate(val_loader, start=1):\n",
    "                images = batch[0].to(device)\n",
    "                classes  = batch[1].to(device)\n",
    "                classes = classes * (torch.rand_like(classes.float())>condition_dropout)\n",
    "                class_embedding = embed(classes.long().to(device)).unsqueeze(1)\n",
    "                with autocast(enabled=True):\n",
    "                    z_mu, z_sigma = autoencoderkl.encode(images)\n",
    "                    z = autoencoderkl.sampling(z_mu, z_sigma)\n",
    "\n",
    "                    noise = torch.randn_like(z).to(device)\n",
    "                    timesteps = torch.randint(\n",
    "                        0, inferer.scheduler.num_train_timesteps, (z.shape[0],), device=z.device\n",
    "                    ).long()\n",
    "                    noise_pred = inferer(\n",
    "                        inputs=images,\n",
    "                        diffusion_model=unet,\n",
    "                        noise=noise,\n",
    "                        timesteps=timesteps,\n",
    "                        autoencoder_model=autoencoderkl,\n",
    "                        condition=class_embedding\n",
    "                    )\n",
    "\n",
    "                    loss = F.mse_loss(noise_pred.float(), noise.float())\n",
    "\n",
    "                val_loss += loss.item()\n",
    "        val_loss /= val_step\n",
    "        val_losses.append(val_loss)\n",
    "        print(f\"Epoch {epoch} val loss: {val_loss:.4f}\")\n",
    "\n",
    "        # Sampling image during training\n",
    "        # z = torch.randn((1, 3, 28, 28))\n",
    "        # z = z.to(device)\n",
    "        # scheduler.set_timesteps(num_inference_steps=1000)\n",
    "        # with autocast(enabled=True):\n",
    "        #     decoded = inferer.sample(\n",
    "        #         input_noise=z, diffusion_model=unet, scheduler=scheduler, autoencoder_model=autoencoderkl\n",
    "        #     )\n",
    "\n",
    "        # plt.figure(figsize=(2, 2))\n",
    "        # plt.style.use(\"default\")\n",
    "        # plt.imshow(decoded[0, 0].detach().cpu(), vmin=0, vmax=1, cmap=\"gray\")\n",
    "        # plt.tight_layout()\n",
    "        # plt.axis(\"off\")\n",
    "        # plt.show()\n",
    "progress_bar.close()"
   ]
  },
  {
   "cell_type": "code",
   "execution_count": 26,
   "id": "94e53a69-61b1-4374-bebb-bcb32438fda5",
   "metadata": {},
   "outputs": [
    {
     "data": {
      "text/plain": [
       "<matplotlib.legend.Legend at 0x7eff83ed5840>"
      ]
     },
     "execution_count": 26,
     "metadata": {},
     "output_type": "execute_result"
    },
    {
     "data": {
      "image/png": "[encoded data removed]",
      "text/plain": [
       "<Figure size 800x550 with 1 Axes>"
      ]
     },
     "metadata": {},
     "output_type": "display_data"
    }
   ],
   "source": [
    "plt.figure()\n",
    "plt.title(\"Learning Curves\", fontsize=20)\n",
    "plt.plot(np.linspace(1, n_epochs, n_epochs), epoch_losses, linewidth=2.0, label=\"Train\")\n",
    "plt.plot(\n",
    "    np.linspace(val_interval, n_epochs, int(n_epochs / val_interval)), val_losses, linewidth=2.0, label=\"Validation\"\n",
    ")\n",
    "plt.yticks(fontsize=12)\n",
    "plt.xticks(fontsize=12)\n",
    "plt.xlabel(\"Epochs\", fontsize=16)\n",
    "plt.ylabel(\"Loss\", fontsize=16)\n",
    "plt.legend(prop={\"size\": 14})"
   ]
  },
  {
   "cell_type": "markdown",
   "id": "f5b11aba-4774-4545-a2fd-6cb916e40af5",
   "metadata": {},
   "source": [
    "## Model Evalution"
   ]
  },
  {
   "cell_type": "code",
   "execution_count": 29,
   "id": "7d0e6ca9-f1c2-4d15-80f6-b6ade5541d79",
   "metadata": {},
   "outputs": [],
   "source": [
    "#Model evaluation\n",
    "\n",
    "unet.eval()\n",
    "scheduler.clip_sample = True\n",
    "guidance_scale = 3\n",
    "conditioning = torch.cat([torch.zeros(1).long(), 3 * torch.ones(1).long()], dim=0).to(\n",
    "    device\n",
    ")  \n",
    "class_embedding = embed(conditioning).unsqueeze(\n",
    "    1\n",
    ")  # cross attention expects shape [batch size, sequence length, channels]\n"
   ]
  },
  {
   "cell_type": "code",
   "execution_count": null,
   "id": "1ea14c0a-8dac-446b-b6a3-39484de3a99e",
   "metadata": {},
   "outputs": [],
   "source": []
  },
  {
   "cell_type": "code",
   "execution_count": 52,
   "id": "484dfd06-2f48-45fb-b333-c1ff0eaf6540",
   "metadata": {
    "scrolled": true
   },
   "outputs": [
    {
     "name": "stderr",
     "output_type": "stream",
     "text": [
      "100%|██████████████████████████████████████████████████████████████████████████████████| 1000/1000 [00:23<00:00, 41.99it/s]\n"
     ]
    },
    {
     "data": {
      "image/png": "[encoded data removed]",
      "text/plain": [
       "<Figure size 640x480 with 1 Axes>"
      ]
     },
     "metadata": {},
     "output_type": "display_data"
    }
   ],
   "source": [
    "unet.eval()\n",
    "scheduler.clip_sample = True\n",
    "guidance_scale = 3\n",
    "conditioning = torch.cat([torch.zeros(1).long(), 1 * torch.ones(1).long()], dim=0).to(\n",
    "    device\n",
    ") \n",
    "class_embedding = embed(conditioning).unsqueeze(\n",
    "    1\n",
    ")  # cross attention expects shape [batch size, sequence length, channels]\n",
    "scheduler.set_timesteps(num_inference_steps=1000)\n",
    "noise = torch.randn((1, 3, 28, 28))\n",
    "noise = noise.to(device)\n",
    "\n",
    "progress_bar = tqdm(scheduler.timesteps)\n",
    "for t in progress_bar:\n",
    "    with autocast(enabled=True):\n",
    "        with torch.no_grad():\n",
    "            noise_input = torch.cat([noise] * 2)\n",
    "            model_output = unet(noise_input, timesteps=torch.Tensor((t,)).to(noise.device), context=class_embedding,)\n",
    "            noise_pred_uncond, noise_pred_text = model_output.chunk(2)\n",
    "            noise_pred = noise_pred_uncond + guidance_scale * (noise_pred_text - noise_pred_uncond)\n",
    "\n",
    "    noise, _ = scheduler.step(noise_pred, t, noise)\n",
    "with torch.no_grad():\n",
    "    noise = autoencoderkl.decode(noise)\n",
    "plt.style.use(\"default\")\n",
    "plt.imshow(noise[0, 0].cpu(), cmap=\"gray\")\n",
    "plt.tight_layout()\n",
    "plt.axis(\"off\")\n",
    "plt.show()\n"
   ]
  },
  {
   "cell_type": "markdown",
   "id": "2f1651f0-d809-4059-a9ca-fbaffc5c0a00",
   "metadata": {},
   "source": [
    "## Save the final model"
   ]
  },
  {
   "cell_type": "code",
   "execution_count": 53,
   "id": "a8afda4a-75d6-402d-8c62-15d56a126c43",
   "metadata": {},
   "outputs": [],
   "source": [
    "epoch = 300\n",
    "torch.save({\n",
    "            'epoch': epoch,\n",
    "            'model_state_dict': unet.state_dict(),\n",
    "            'optimizer_state_dict': optimizer.state_dict(),\n",
    "            'embed_state_dict':embed.state_dict(),\n",
    "            'loss': loss,\n",
    "            }, f\"checkpoints/{epoch}.pth\")"
   ]
  },
  {
   "cell_type": "code",
   "execution_count": null,
   "id": "9e8ada22-94d9-44e1-850e-593f7729df80",
   "metadata": {},
   "outputs": [],
   "source": []
  },
  {
   "cell_type": "code",
   "execution_count": 54,
   "id": "26bc28fd-448b-45cd-bd80-f3593baef80a",
   "metadata": {},
   "outputs": [],
   "source": [
    "PATH_unet_condition = '/home/default/monai_generative_ai/unet_latent_space_model_condition.pt'\n",
    "PATH_embed_condition = '/home/default/monai_generative_ai/embed_latent_space_model_condition.pt'"
   ]
  },
  {
   "cell_type": "code",
   "execution_count": 2,
   "id": "d9a97c35-47d0-42ec-9c26-42b78a24328b",
   "metadata": {},
   "outputs": [],
   "source": [
    "#Uncoment the following lines to save the models separately\n",
    "# torch.save(unet.state_dict(), PATH_unet_condition)\n",
    "# torch.save(embed.state_dict(), PATH_embed_condition)"
   ]
  },
  {
   "cell_type": "code",
   "execution_count": null,
   "id": "76fc2e6c-3f73-4e96-9c50-35e3603dc307",
   "metadata": {},
   "outputs": [],
   "source": []
  },
  {
   "cell_type": "code",
   "execution_count": null,
   "id": "41060311-79f4-4a50-8b0d-2189ec170673",
   "metadata": {},
   "outputs": [],
   "source": []
  },
  {
   "cell_type": "code",
   "execution_count": null,
   "id": "9d13163c-6822-4e59-8574-03e9863c7f44",
   "metadata": {},
   "outputs": [],
   "source": []
  }
 ],
 "metadata": {
  "kernelspec": {
   "display_name": "Python 3 (ipykernel)",
   "language": "python",
   "name": "python3"
  },
  "language_info": {
   "codemirror_mode": {
    "name": "ipython",
    "version": 3
   },
   "file_extension": ".py",
   "mimetype": "text/x-python",
   "name": "python",
   "nbconvert_exporter": "python",
   "pygments_lexer": "ipython3",
   "version": "3.10.13"
  }
 },
 "nbformat": 4,
 "nbformat_minor": 5
}
